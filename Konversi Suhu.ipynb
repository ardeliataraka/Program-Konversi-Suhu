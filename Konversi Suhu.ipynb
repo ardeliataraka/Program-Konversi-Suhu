{
 "cells": [
  {
   "cell_type": "code",
   "execution_count": 1,
   "id": "4829f575-1130-40ca-a7a6-82c8e5a5e173",
   "metadata": {},
   "outputs": [
    {
     "name": "stdout",
     "output_type": "stream",
     "text": [
      "Temperature conversion from Kelvin\n"
     ]
    },
    {
     "name": "stdin",
     "output_type": "stream",
     "text": [
      "input temperature in Kelvin= 800\n"
     ]
    },
    {
     "name": "stdout",
     "output_type": "stream",
     "text": [
      "Temperature in Fahrenheit degree = 980.33\n",
      "Temperature in Celcius degree = 526.85\n",
      "Temperature in Reamur degree = 421.48\n"
     ]
    }
   ],
   "source": [
    "print('Temperature conversion from Kelvin')\n",
    "T_K=int(input('input temperature in Kelvin=')) #input temperature Kelvin\n",
    "\n",
    "#Calculate\n",
    "T_F=(T_K-273.15)*(9/5)+32\n",
    "T_cel=T_K-273.15\n",
    "T_R=(T_K-273.15)*(4/5)\n",
    "\n",
    "#Output\n",
    "print('Temperature in Fahrenheit degree =',T_F)\n",
    "print('Temperature in Celcius degree =',T_cel)\n",
    "print('Temperature in Reamur degree =',T_R)"
   ]
  },
  {
   "cell_type": "code",
   "execution_count": 3,
   "id": "103ad150-2cf8-4c27-9c5c-33b1af709b20",
   "metadata": {},
   "outputs": [
    {
     "name": "stdout",
     "output_type": "stream",
     "text": [
      "Temperature conversion from Fahrenheit\n"
     ]
    },
    {
     "name": "stdin",
     "output_type": "stream",
     "text": [
      "input temperature in Fahrenheit degree= 500\n"
     ]
    },
    {
     "name": "stdout",
     "output_type": "stream",
     "text": [
      "Temperature in Celcius degree = 260.0\n",
      "Temperature in Kelvin = 533.15\n",
      "Temperature in Fahrenheit degree = 500\n"
     ]
    }
   ],
   "source": [
    "print('Temperature conversion from Fahrenheit')\n",
    "T_F=int(input('input temperature in Fahrenheit degree=')) #input temperature Fahrenheit\n",
    "\n",
    "#Calculate\n",
    "T_cel=(T_F-32)*(5/9)\n",
    "T_K=(T_F-32)*(5/9)+273.15\n",
    "T_R=(T_F-32)*(4/9)\n",
    "\n",
    "#Output\n",
    "print('Temperature in Celcius degree =',T_cel)\n",
    "print('Temperature in Kelvin =',T_K)\n",
    "print('Temperature in Fahrenheit degree =',T_F)"
   ]
  },
  {
   "cell_type": "code",
   "execution_count": 5,
   "id": "81d5f61e-9c59-4cfe-9a90-9ffc07543bbe",
   "metadata": {},
   "outputs": [
    {
     "name": "stdout",
     "output_type": "stream",
     "text": [
      "Temperature conversion from Reamur\n"
     ]
    },
    {
     "name": "stdin",
     "output_type": "stream",
     "text": [
      "input temperature in Reamur degree= 600\n"
     ]
    },
    {
     "name": "stdout",
     "output_type": "stream",
     "text": [
      "Temperature in Fahrenheit degree = 1382.0\n",
      "Temperature in Celcius degree = 750.0\n",
      "Temperature in Kelvin = 1023.15\n"
     ]
    }
   ],
   "source": [
    "print('Temperature conversion from Reamur')\n",
    "T_R=int(input('input temperature in Reamur degree=')) #input temperature Reamur\n",
    "\n",
    "#Calculate\n",
    "T_F=T_R*(9/4)+32\n",
    "T_cel=T_R*(5/4)\n",
    "T_K=T_R*(5/4)+273.15\n",
    "\n",
    "#Output\n",
    "print('Temperature in Fahrenheit degree =', T_F)\n",
    "print('Temperature in Celcius degree =', T_cel)\n",
    "print('Temperature in Kelvin =', T_K)"
   ]
  }
 ],
 "metadata": {
  "kernelspec": {
   "display_name": "Python 3 (ipykernel)",
   "language": "python",
   "name": "python3"
  },
  "language_info": {
   "codemirror_mode": {
    "name": "ipython",
    "version": 3
   },
   "file_extension": ".py",
   "mimetype": "text/x-python",
   "name": "python",
   "nbconvert_exporter": "python",
   "pygments_lexer": "ipython3",
   "version": "3.12.4"
  }
 },
 "nbformat": 4,
 "nbformat_minor": 5
}
